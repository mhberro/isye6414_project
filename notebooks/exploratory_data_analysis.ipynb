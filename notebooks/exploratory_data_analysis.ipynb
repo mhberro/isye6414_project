{
  "cells": [
    {
      "cell_type": "code",
      "source": [
        "%cd isye6414_project/"
      ],
      "metadata": {
        "id": "aEoE3B3yqb5E",
        "outputId": "59e6272e-991b-49ff-9bbc-c10b6f38c7b7",
        "colab": {
          "base_uri": "https://localhost:8080/"
        }
      },
      "id": "aEoE3B3yqb5E",
      "execution_count": 5,
      "outputs": [
        {
          "output_type": "stream",
          "name": "stdout",
          "text": [
            "/content/isye6414_project\n"
          ]
        }
      ]
    },
    {
      "cell_type": "code",
      "execution_count": 8,
      "id": "5ce6bf8d-b051-4fc2-abe8-09f8ab30221f",
      "metadata": {
        "id": "5ce6bf8d-b051-4fc2-abe8-09f8ab30221f",
        "outputId": "5c02bfe2-d2d1-4743-f28d-14e3576fe341",
        "colab": {
          "base_uri": "https://localhost:8080/"
        }
      },
      "outputs": [
        {
          "output_type": "stream",
          "name": "stdout",
          "text": [
            "hello world!\n"
          ]
        }
      ],
      "source": [
        "print('hello world!')"
      ]
    },
    {
      "cell_type": "code",
      "source": [
        "print('testing code changes are pushed to Github')"
      ],
      "metadata": {
        "id": "HizTuPTet-QQ",
        "outputId": "66634abe-31dc-468c-9f06-c9df9856169c",
        "colab": {
          "base_uri": "https://localhost:8080/"
        }
      },
      "id": "HizTuPTet-QQ",
      "execution_count": 9,
      "outputs": [
        {
          "output_type": "stream",
          "name": "stdout",
          "text": [
            "testing code changes are pushed to Github\n"
          ]
        }
      ]
    },
    {
      "cell_type": "code",
      "source": [
        "!git status"
      ],
      "metadata": {
        "id": "j_QoXfElqPx1",
        "outputId": "e42a1ab8-102a-45b7-ddb0-aa46134e535c",
        "colab": {
          "base_uri": "https://localhost:8080/"
        }
      },
      "id": "j_QoXfElqPx1",
      "execution_count": 10,
      "outputs": [
        {
          "output_type": "stream",
          "name": "stdout",
          "text": [
            "On branch main\n",
            "Your branch is up to date with 'origin/main'.\n",
            "\n",
            "nothing to commit, working tree clean\n"
          ]
        }
      ]
    },
    {
      "cell_type": "code",
      "source": [],
      "metadata": {
        "id": "ZRt-CwDWt6uO"
      },
      "id": "ZRt-CwDWt6uO",
      "execution_count": null,
      "outputs": []
    }
  ],
  "metadata": {
    "kernelspec": {
      "display_name": "Python 3 (ipykernel)",
      "language": "python",
      "name": "python3"
    },
    "language_info": {
      "codemirror_mode": {
        "name": "ipython",
        "version": 3
      },
      "file_extension": ".py",
      "mimetype": "text/x-python",
      "name": "python",
      "nbconvert_exporter": "python",
      "pygments_lexer": "ipython3",
      "version": "3.11.7"
    },
    "colab": {
      "provenance": []
    }
  },
  "nbformat": 4,
  "nbformat_minor": 5
}